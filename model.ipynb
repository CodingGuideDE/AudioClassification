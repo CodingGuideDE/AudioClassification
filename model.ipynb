{
 "cells": [
  {
   "cell_type": "markdown",
   "id": "68f20c70",
   "metadata": {},
   "source": [
    "Imports"
   ]
  },
  {
   "cell_type": "code",
   "execution_count": 114,
   "id": "692fc86f",
   "metadata": {},
   "outputs": [],
   "source": [
    "import torchaudio\n",
    "import torch\n",
    "import torch.nn as nn\n",
    "import torch.nn.functional as F\n",
    "import librosa\n",
    "import os\n",
    "import numpy as np\n",
    "from torch.nn.utils.rnn import pad_sequence\n",
    "from torch.utils.data import Dataset, DataLoader\n",
    "from sklearn.model_selection import train_test_split"
   ]
  },
  {
   "cell_type": "markdown",
   "id": "087154aa",
   "metadata": {},
   "source": [
    "Function for spliting the data into train and test set + preparing for AudioDataset class"
   ]
  },
  {
   "cell_type": "code",
   "execution_count": 125,
   "id": "9501e676",
   "metadata": {},
   "outputs": [],
   "source": [
    "def getData(audio_file_path, train = True):\n",
    "\n",
    "    audio_waveform_list = []\n",
    "    labels_list = []\n",
    "\n",
    "    for dir in os.listdir(audio_file_path):\n",
    "        for file in os.listdir(os.path.join(audio_file_path, dir)):\n",
    "            if file.endswith('.wav'):\n",
    "                waveform, _ = torchaudio.load(os.path.join(audio_file_path, dir, file))\n",
    "                audio_waveform_list.append(waveform)\n",
    "                labels_list.append(dir)\n",
    "\n",
    "\n",
    "    train_waveform_list, test_waveform_list = train_test_split(audio_waveform_list, test_size=0.25, shuffle=False)\n",
    "    train_labels_list, test_lables_list = train_test_split(labels_list, test_size=0.25, shuffle=False)\n",
    "\n",
    "    if train:\n",
    "        return train_waveform_list, train_labels_list\n",
    "    else:\n",
    "        return test_waveform_list, test_lables_list\n",
    "\n"
   ]
  },
  {
   "cell_type": "markdown",
   "id": "eea9bb75",
   "metadata": {},
   "source": [
    "Creating Class to load the audio files"
   ]
  },
  {
   "cell_type": "code",
   "execution_count": 126,
   "id": "b5e6b4fc",
   "metadata": {},
   "outputs": [],
   "source": [
    "class AudioDataset():\n",
    "    def __init__(self, audio_file_path, train):\n",
    "        self.audio_file_path = audio_file_path\n",
    "\n",
    "        self.audio_waveform_list, self.labels_list = getData(audio_file_path, train)\n",
    "\n",
    "    def __len__(self):\n",
    "        return len(self.audio_waveform_list)\n",
    "    \n",
    "    def __getitem__(self, idx):\n",
    "        label_encoding = {'bird': 0, 'cat': 1, 'dog': 2}\n",
    "        waveform = self.audio_waveform_list[idx]\n",
    "        label = self.labels_list[idx]\n",
    "\n",
    "        return waveform, label_encoding[label]\n",
    "\n",
    "    \n",
    "def collate_fn(batch):\n",
    "    waveforms, labels = zip(*batch)\n",
    "    waveforms = [pad_or_truncate(w, 1600) for w in waveforms]\n",
    "    waveforms = torch.stack(waveforms)\n",
    "    labels = torch.tensor(labels)\n",
    "    return waveforms, labels\n",
    "\n",
    "def pad_or_truncate(waveform, target_length=16000):\n",
    "    channels, samples = waveform.size()\n",
    "    \n",
    "    if samples > target_length:\n",
    "        return waveform[:, :target_length]\n",
    "    elif samples < target_length:\n",
    "        pad_size = target_length - samples\n",
    "        padding = torch.zeros(channels, pad_size)\n",
    "        return torch.cat([waveform, padding], dim=1)\n",
    "    else:\n",
    "        return waveform\n",
    "\n"
   ]
  },
  {
   "cell_type": "markdown",
   "id": "8c38c5e4",
   "metadata": {},
   "source": [
    "Loading the audio files and creating a dataset"
   ]
  },
  {
   "cell_type": "code",
   "execution_count": 127,
   "id": "fa4d7269",
   "metadata": {},
   "outputs": [
    {
     "name": "stdout",
     "output_type": "stream",
     "text": [
      "torch.Size([2, 1, 1600])\n",
      "tensor([2, 1])\n"
     ]
    },
    {
     "name": "stderr",
     "output_type": "stream",
     "text": [
      "/Users/florianhaglsperger/Desktop/Coding/.venv/lib/python3.13/site-packages/torchaudio/_backend/utils.py:213: UserWarning: In 2.9, this function's implementation will be changed to use torchaudio.load_with_torchcodec` under the hood. Some parameters like ``normalize``, ``format``, ``buffer_size``, and ``backend`` will be ignored. We recommend that you port your code to rely directly on TorchCodec's decoder instead: https://docs.pytorch.org/torchcodec/stable/generated/torchcodec.decoders.AudioDecoder.html#torchcodec.decoders.AudioDecoder.\n",
      "  warnings.warn(\n"
     ]
    }
   ],
   "source": [
    "audio_dataset = AudioDataset(audio_file_path='/Users/florianhaglsperger/Desktop/Coding/audioClassification/Animals', train=True)\n",
    "train_laoder = DataLoader(audio_dataset, batch_size=2, shuffle=True, collate_fn=collate_fn)\n",
    "\n",
    "for batch in train_laoder:\n",
    "    waveforms, labels = batch\n",
    "    print(waveforms.shape)\n",
    "    print(labels)\n",
    "    break"
   ]
  },
  {
   "cell_type": "markdown",
   "id": "7ceca7b9",
   "metadata": {},
   "source": [
    "Create the model"
   ]
  },
  {
   "cell_type": "code",
   "execution_count": null,
   "id": "a2a785ad",
   "metadata": {},
   "outputs": [
    {
     "name": "stderr",
     "output_type": "stream",
     "text": [
      "/Users/florianhaglsperger/Desktop/Coding/.venv/lib/python3.13/site-packages/librosa/core/spectrum.py:266: UserWarning: n_fft=2048 is too large for input signal of length=1600\n",
      "  warnings.warn(\n"
     ]
    },
    {
     "name": "stdout",
     "output_type": "stream",
     "text": [
      "Epoch [1/50], Loss: 0.3784\n",
      "Epoch [2/50], Loss: 1.0703\n",
      "Epoch [3/50], Loss: 1.5953\n",
      "Epoch [4/50], Loss: 0.7666\n",
      "Epoch [5/50], Loss: 0.5928\n",
      "Epoch [6/50], Loss: 0.8081\n",
      "Epoch [7/50], Loss: 1.4122\n",
      "Epoch [8/50], Loss: 0.9033\n",
      "Epoch [9/50], Loss: 0.7096\n",
      "Epoch [10/50], Loss: 0.7342\n",
      "Epoch [11/50], Loss: 0.3953\n",
      "Epoch [12/50], Loss: 0.7067\n",
      "Epoch [13/50], Loss: 0.2059\n",
      "Epoch [14/50], Loss: 0.4027\n",
      "Epoch [15/50], Loss: 0.8822\n",
      "Epoch [16/50], Loss: 0.8069\n",
      "Epoch [17/50], Loss: 0.3696\n",
      "Epoch [18/50], Loss: 0.5955\n",
      "Epoch [19/50], Loss: 1.4322\n",
      "Epoch [20/50], Loss: 0.8425\n",
      "Epoch [21/50], Loss: 0.9118\n",
      "Epoch [22/50], Loss: 0.1475\n",
      "Epoch [23/50], Loss: 0.6440\n",
      "Epoch [24/50], Loss: 0.3146\n",
      "Epoch [25/50], Loss: 0.0595\n",
      "Epoch [26/50], Loss: 0.9805\n",
      "Epoch [27/50], Loss: 0.5443\n",
      "Epoch [28/50], Loss: 0.6197\n",
      "Epoch [29/50], Loss: 0.7026\n",
      "Epoch [30/50], Loss: 0.2019\n",
      "Epoch [31/50], Loss: 0.2509\n",
      "Epoch [32/50], Loss: 0.9303\n",
      "Epoch [33/50], Loss: 0.1733\n",
      "Epoch [34/50], Loss: 0.3278\n",
      "Epoch [35/50], Loss: 1.0176\n",
      "Epoch [36/50], Loss: 0.5786\n",
      "Epoch [37/50], Loss: 0.3120\n",
      "Epoch [38/50], Loss: 0.1850\n",
      "Epoch [39/50], Loss: 0.2299\n",
      "Epoch [40/50], Loss: 0.3462\n",
      "Epoch [41/50], Loss: 0.1474\n",
      "Epoch [42/50], Loss: 0.0504\n",
      "Epoch [43/50], Loss: 0.0028\n",
      "Epoch [44/50], Loss: 0.0033\n",
      "Epoch [45/50], Loss: 0.0845\n",
      "Epoch [46/50], Loss: 0.3991\n",
      "Epoch [47/50], Loss: 1.0679\n",
      "Epoch [48/50], Loss: 0.0363\n",
      "Epoch [49/50], Loss: 0.2423\n",
      "Epoch [50/50], Loss: 0.2287\n"
     ]
    }
   ],
   "source": [
    "class AudioClassifier(nn.Module):\n",
    "    def __init__(self, num_classes=3):\n",
    "        super(AudioClassifier, self).__init__()\n",
    "\n",
    "        self.conv = nn.Sequential(\n",
    "            nn.Conv2d(1, 16, kernel_size=3, padding=1), nn.ReLU(), nn.MaxPool2d(2),\n",
    "            nn.Conv2d(16, 32, kernel_size=3, padding=1), nn.ReLU(), nn.MaxPool2d(2)\n",
    "        )\n",
    "\n",
    "        self.fc = nn.Sequential(\n",
    "            nn.Flatten(),\n",
    "            nn.Linear(512, 128), nn.ReLU(),\n",
    "            nn.ReLU(),\n",
    "            nn.Linear(128, num_classes)\n",
    "        )\n",
    "\n",
    "    def forward(self, x):\n",
    "        x = self.conv(x)\n",
    "        x = self.fc(x)\n",
    "        return x\n",
    "    \n",
    "model = AudioClassifier(num_classes=3)\n",
    "criterion = nn.CrossEntropyLoss()\n",
    "optimizer = torch.optim.Adam(model.parameters(), lr=0.0001)\n",
    "\n",
    "num_epochs = 50\n",
    "\n",
    "for epoch in range(num_epochs):\n",
    "    for i, (waveforms, labels) in enumerate(train_laoder):\n",
    "        \n",
    "        spectrograms = []\n",
    "        for waveform in waveforms:\n",
    "            spectrogram = librosa.feature.melspectrogram(y=waveform.numpy().squeeze(), sr=22050, n_mels=64)\n",
    "            spectrogram = librosa.power_to_db(spectrogram, ref=np.max)\n",
    "            spectrograms.append(torch.tensor(spectrogram).unsqueeze(0))\n",
    "\n",
    "\n",
    "        spectrograms = pad_sequence(spectrograms, batch_first=True)\n",
    "\n",
    "        outputs = model(spectrograms)\n",
    "        loss = criterion(outputs, labels)\n",
    "\n",
    "        optimizer.zero_grad()\n",
    "        loss.backward()\n",
    "        optimizer.step()\n",
    "    \n",
    "    print(f'Epoch [{epoch+1}/{num_epochs}], Loss: {loss.item():.4f}')\n",
    "        "
   ]
  },
  {
   "cell_type": "markdown",
   "id": "e7122866",
   "metadata": {},
   "source": [
    "Testing the model on new data"
   ]
  },
  {
   "cell_type": "code",
   "execution_count": 130,
   "id": "a4c2765a",
   "metadata": {},
   "outputs": [
    {
     "name": "stderr",
     "output_type": "stream",
     "text": [
      "/Users/florianhaglsperger/Desktop/Coding/.venv/lib/python3.13/site-packages/torchaudio/_backend/utils.py:213: UserWarning: In 2.9, this function's implementation will be changed to use torchaudio.load_with_torchcodec` under the hood. Some parameters like ``normalize``, ``format``, ``buffer_size``, and ``backend`` will be ignored. We recommend that you port your code to rely directly on TorchCodec's decoder instead: https://docs.pytorch.org/torchcodec/stable/generated/torchcodec.decoders.AudioDecoder.html#torchcodec.decoders.AudioDecoder.\n",
      "  warnings.warn(\n",
      "/Users/florianhaglsperger/Desktop/Coding/.venv/lib/python3.13/site-packages/librosa/core/spectrum.py:266: UserWarning: n_fft=2048 is too large for input signal of length=1600\n",
      "  warnings.warn(\n"
     ]
    }
   ],
   "source": [
    "dataset = AudioDataset(audio_file_path='/Users/florianhaglsperger/Desktop/Coding/audioClassification/Animals', train=False)\n",
    "test_loader = DataLoader(audio_dataset, batch_size=2, shuffle=False, collate_fn=collate_fn)\n",
    "\n",
    "model.eval()\n",
    "\n",
    "with torch.no_grad():\n",
    "    for i, (waveforms, labels) in enumerate(test_loader):\n",
    "        spectrograms = []\n",
    "        for waveform in waveforms:\n",
    "            spectrogram = librosa.feature.melspectrogram(y=waveform.numpy().squeeze(), sr=22050, n_mels=64)\n",
    "            spectrogram = librosa.power_to_db(spectrogram, ref=np.max)\n",
    "            spectrograms.append(torch.tensor(spectrogram).unsqueeze(0))\n",
    "\n",
    "\n",
    "        spectrograms = pad_sequence(spectrograms, batch_first=True)\n",
    "\n",
    "        outputs = model(spectrograms)\n",
    "        loss = criterion(outputs, labels)\n",
    "    \n",
    "    "
   ]
  }
 ],
 "metadata": {
  "kernelspec": {
   "display_name": ".venv (3.13.7)",
   "language": "python",
   "name": "python3"
  },
  "language_info": {
   "codemirror_mode": {
    "name": "ipython",
    "version": 3
   },
   "file_extension": ".py",
   "mimetype": "text/x-python",
   "name": "python",
   "nbconvert_exporter": "python",
   "pygments_lexer": "ipython3",
   "version": "3.13.7"
  }
 },
 "nbformat": 4,
 "nbformat_minor": 5
}
